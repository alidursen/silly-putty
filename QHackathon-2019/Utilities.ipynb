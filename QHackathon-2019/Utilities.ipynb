{
 "cells": [
  {
   "cell_type": "code",
   "execution_count": null,
   "metadata": {},
   "outputs": [],
   "source": [
    "from random import getrandbits\n",
    "from time import sleep\n",
    "from qiskit import QuantumCircuit, execute, Aer\n",
    "\n",
    "def grb(n:int)->str:\n",
    "    \"\"\"Returns a string of n random bits.\"\"\"\n",
    "    r = bin(getrandbits(n))[2:]\n",
    "    if len(r)<n:\n",
    "        r = '0'*(n-len(r)) + r\n",
    "    return r\n",
    "\n",
    "def polarizer(w:str)->str:\n",
    "    \"\"\"Polarizes a bit string of 0's and 1's into + and -'s respectively.\"\"\"\n",
    "    s = ''\n",
    "    for i in w:\n",
    "        if i == '0':\n",
    "            s += '+'\n",
    "        elif i == '1':\n",
    "            s += 'x'\n",
    "    return s\n",
    "\n",
    "def BB84(a_bit, a_direction, b_direction):\n",
    "    \"\"\"\n",
    "    BB84 protokolünü, tek bit'lik sistem için çalıştırır,\n",
    "    öyle ki a_direction ve b_direction'ın uyuştuğu durumda,\n",
    "    a_bit ve sonuç bit'i de uyuşacaktır.\n",
    "    \n",
    "    BB84 seri çalışan bir protokol olduğu için,\n",
    "    n-bit'lik sistem bunun n kere tekrarıyla gerçekleşecektir.\n",
    "    \n",
    "    Tüm girdiler ve çıktı, '0' veya '1' olacaktır.\n",
    "    \"\"\"    \n",
    "    circ = QuantumCircuit(1,1)\n",
    "    \n",
    "    if(a_bit=='1'):\n",
    "        circ.x(0)\n",
    "    if(a_direction=='1'):\n",
    "        circ.h(0)\n",
    "    if(b_direction=='1'):\n",
    "        circ.h(0)\n",
    "    circ.measure(0,0)\n",
    "    \n",
    "    return execute(circ, Aer.get_backend(\"qasm_simulator\"), shots=1, memory=True).result().get_memory()[0]"
   ]
  }
 ],
 "metadata": {
  "kernelspec": {
   "display_name": "Python 3",
   "language": "python",
   "name": "python3"
  },
  "language_info": {
   "codemirror_mode": {
    "name": "ipython",
    "version": 3
   },
   "file_extension": ".py",
   "mimetype": "text/x-python",
   "name": "python",
   "nbconvert_exporter": "python",
   "pygments_lexer": "ipython3",
   "version": "3.7.1"
  }
 },
 "nbformat": 4,
 "nbformat_minor": 4
}
