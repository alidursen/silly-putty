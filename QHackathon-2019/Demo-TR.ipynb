{
 "cells": [
  {
   "cell_type": "code",
   "execution_count": 9,
   "metadata": {},
   "outputs": [],
   "source": [
    "%run Demo-Basis.ipynb"
   ]
  },
  {
   "cell_type": "code",
   "execution_count": 10,
   "metadata": {},
   "outputs": [
    {
     "name": "stdout",
     "output_type": "stream",
     "text": [
      "                   ALICE                                        BOB                     \n",
      "========================================================================================\n",
      "- I want to send a one-time pad\n",
      "  to my friend Bob to ensure security.\n",
      "  For this, I will use photons in\n",
      "  random polarizations.\n",
      "\n",
      "- My random classical bits:\n",
      "    11111110100100000110011010111010\n",
      "    01011111110000110110000111010100\n",
      "\n",
      "- My random polarizations:\n",
      "    +xxx+xx++x+xxxx++++x++x+x+++x+x+\n",
      "    x+x+++++xxxx+++++x++++x++x+x+++x\n",
      "- Quantum state sent to Bob:\n",
      "  --------  |1---1--01+0-+++0011+01-0-011-0-0+1+11111--++00110-1000+11-0-010+>  ------->\n",
      "\n",
      "\t\t\t\t\t    - Ayşe'nin mesajıyla aynı boyda\n",
      "\t\t\t\t\t      rastgele yön belirliyorum:\n",
      "\t\t\t\t\t        xxxxx++x+xx++++x+xx++++x+++x+xxx\n",
      "\t\t\t\t\t        +xx+x+xx+xx+xxxxx+++xx++x+++xx+x\n",
      "\n",
      "\t\t\t\t\t    - Bu rastgele yöne göre ölçümlerim:\n",
      "\t\t\t\t\t        11110100100010010100010100110010\n",
      "\t\t\t\t\t        01010111010101011010111100000100\n",
      "\n",
      "\t\tRastgele yönlerimizi ortak kanalda karşılaştırıyoruz:\n",
      "  -Ayşe:\t+xxx+xx++x+xxxx++++x++x+x+++x+x+x+x+++++xxxx+++++x++++x++x+x+++x\n",
      "\t\txxxxx++x+xx++++x+xx++++x+++x+xxx+xx+x+xx+xx+xxxxx+++xx++x+++xx+x\t:Bora-\n",
      "\t\t ===    ==      =   ==   ==   =   == =   ==       ==   =  =   ==\n",
      "\t\tAynı yönlerde bit'ler de aynı olacaktır:\n",
      "\t\t ↓↓↓    ↓↓      ↓   ↓↓   ↓↓   ↓   ↓↓ ↓   ↓↓       ↓↓   ↓  ↓   ↓↓\n",
      "  -Ayşe:\t1111111010010000011001101011101001011111110000110110000111010100\n",
      "\t\t1111010010001001010001010011001001010111010101011010111100000100\t:Bora-\n",
      "\t\t ↓↓↓    ↓↓      ↓   ↓↓   ↓↓   ↓   ↓↓ ↓   ↓↓       ↓↓   ↓  ↓   ↓↓\n",
      "\t\t 111    10      0   01   01   1   01 1   10       10   1  0   00\n",
      "\n",
      "- Bunun sonunda ikimizin de elinde,\n",
      "  22 bit'lik bir dizi oldu.\n",
      "  (Hedefimiz ise 32 bit'lik bir diziydi.)\n",
      "\n",
      "\t\t\t\t\t    - Eğer kusur veya dinlenme riski varsa,\n",
      "\t\t\t\t\t      bunun belli bir kısmı karşılaştırılabilir.\n",
      "\n",
      "- Uyuşmazlık belli bir oranın üzerindeyse,\n",
      "  bunu kullanmak yerine baştan başlarız.\n"
     ]
    }
   ],
   "source": [
    "# Görselleştirme açısından HEDEF bit sayısının 32 olarak tutulması önerilmektedir.\n",
    "HEDEF = 32\n",
    "\n",
    "BB84_DEMO(HEDEF, lang='EN')"
   ]
  },
  {
   "cell_type": "code",
   "execution_count": null,
   "metadata": {},
   "outputs": [],
   "source": []
  }
 ],
 "metadata": {
  "kernelspec": {
   "display_name": "Python 3",
   "language": "python",
   "name": "python3"
  },
  "language_info": {
   "codemirror_mode": {
    "name": "ipython",
    "version": 3
   },
   "file_extension": ".py",
   "mimetype": "text/x-python",
   "name": "python",
   "nbconvert_exporter": "python",
   "pygments_lexer": "ipython3",
   "version": "3.7.1"
  }
 },
 "nbformat": 4,
 "nbformat_minor": 4
}
