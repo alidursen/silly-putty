{
 "cells": [
  {
   "cell_type": "code",
   "execution_count": null,
   "metadata": {},
   "outputs": [],
   "source": [
    "%run DemoBasis.ipynb"
   ]
  },
  {
   "cell_type": "markdown",
   "metadata": {},
   "source": [
    "# Şifreleme\n",
    "\n",
    "Klasik şifreleme 2 kısma ayrılır: Simetrik şifreleme ve asimetrik şifreleme.\n",
    "Simetrik şifreleme, tarihsel olarak geçmişi de bulunan bir şifreleme yöntemidir. \n",
    "Bu yöntemde şifreli ve çözülmüş mesaj aynı gizli anahtarla bulunur.\n",
    "Tek kullanımlık anahtar şifreleri gibi bazı şifreler, bilgisayar korsanlarının keyfi\n",
    "saldırılarına karşı mükemmel bir koruma sağlar.\n",
    "\n",
    "## Simetrik Şifreleme (Gizli Anahtarlı Şifreleme)\n",
    "\n",
    "Gizli anahtarlı şifreleme yönteminde, ortada bir adet anahtar bulunur. Bu anahtar açık metni şifreler ve şifreli \n",
    "metni açık metine çevirir. Burada önemli olan anahtarın güvenliğidir. Eğer gizli anahtar başkalarının eline \n",
    "geçerse tüm şifrelenmiş metinler kolaylıkla çözebilir.\n",
    "\n",
    "Simetrik şifrelemenin avantajları şunlardır:\n",
    "* Simetrik şifreleme oldukça hızlıdır\n",
    "* Donanımla beraber kullanılabilirler\n",
    "* Anahtarları oldukça kısadır\n",
    "* Daha güçlü şifrelerin oluşturulmasında aracı olarak kullanılabilirler\n",
    "* Kullanımları gayet anlaşılır ve kolaydır\n",
    "\n",
    "Simetrik şifrelemenin dezavantajları şunlardır:\n",
    "* Anahtarın saklanması ve taraflara ulaştırılması zordur, güvenlik riski içerir\n",
    "* Anahtarların tek defa kullanılması gerekmektedir, dolayısıyla ölçeklenmesi zordur.\n",
    "* Kimlik doğrulama işlevi görülmez. Anahtara sahip olan herkes olaya dahil olur.\n",
    "* Bütünlük sağlaması yoktur. Anahtarı ele geçiren kişi veriyi değiştirmiş olabilir.\n",
    "* İnkar edilememezlik sağlamaz."
   ]
  },
  {
   "cell_type": "markdown",
   "metadata": {},
   "source": [
    "# BB84\n",
    "\n",
    "C. H. Bennett ve G. Brassard tarafından 1984 yılında getirilen bu protokol,\n",
    "kuantum süperpozisyonların ancak gözlem anında bir duruma çökmesi prensibine dayanır.\n",
    "\n",
    "Rastgele bir durumda gönderilen tekil kubitler, karşıdaki kullanıcı (Bora)\n",
    "tarafından ölçülür, ardından ölçüm yolları kıyaslanır.\n",
    "\n",
    "Ölçüm yollarının uyuştuğu durumda, ölçümler de uyuşacaktır. Bu, iki tarafın da elinde\n",
    "eşit, rastgele bir bit dizisi olması anlamına gelir.\n",
    "\n",
    "## Güvenlik\n",
    "\n",
    "Kuantum iletişim kanalında istenmeyen bir dinleyici olması durumunda,\n",
    "\"dinle ve tekrar gönder\" saldırısı da olasılıksal bir doğa edinir:\n",
    "Dinleyici ve asıl alıcının uyuşması, yani dinleyici varlığının gizli kalması,\n",
    "kubit başına 1/4 ihtimallidir. Kubit sayısı arttıkça dinleyicinin kusursuz\n",
    "gizliliği ihtimali 0'a yaklaşır."
   ]
  },
  {
   "cell_type": "code",
   "execution_count": null,
   "metadata": {},
   "outputs": [],
   "source": [
    "# Görselleştirme açısından HEDEF bit sayısının 32 olarak tutulması önerilmektedir.\n",
    "# Dilenirse sunum hızı, 'speed' parametresi ile arttırılabilir (örn. 'speed=5').\n",
    "HEDEF = 32\n",
    "\n",
    "BB84_DEMO(HEDEF, lang='TR')"
   ]
  }
 ],
 "metadata": {
  "kernelspec": {
   "display_name": "Python 3",
   "language": "python",
   "name": "python3"
  },
  "language_info": {
   "codemirror_mode": {
    "name": "ipython",
    "version": 3
   },
   "file_extension": ".py",
   "mimetype": "text/x-python",
   "name": "python",
   "nbconvert_exporter": "python",
   "pygments_lexer": "ipython3",
   "version": "3.7.1"
  }
 },
 "nbformat": 4,
 "nbformat_minor": 4
}
