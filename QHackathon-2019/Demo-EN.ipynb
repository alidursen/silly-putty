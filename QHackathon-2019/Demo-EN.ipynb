{
 "cells": [
  {
   "cell_type": "code",
   "execution_count": null,
   "metadata": {},
   "outputs": [],
   "source": [
    "%run DemoBasis.ipynb"
   ]
  },
  {
   "cell_type": "markdown",
   "metadata": {},
   "source": [
    "# Encryption\n",
    "\n",
    "Encryption, traditionally, comes in two varieties: symmetric and asymmetric.\n",
    "Symmetric is the older version, where same key is used to both encrypt and\n",
    "decrypt the message. One-time use keypads provide perfect security against\n",
    "arbitrary attacks by 3rd parties.\n",
    "\n",
    "## Symmetric (Hidden Key) Encryption\n",
    "\n",
    "In hidden key encryption, there exists a single key which is used\n",
    "to both encrypt and decrypt the message. Main consideration here is\n",
    "key's security. If said key is obtained by others, encrypted messages\n",
    "can be easily accessed.\n",
    "\n",
    "Advantages of symmetric encryption are:\n",
    "* It's quite simplistic and fast\n",
    "* Can be used with hardware\n",
    "* Keys are quite short\n",
    "* Can be used in creation of stronger keys\n",
    "* Usage is understandable and easy\n",
    "\n",
    "Disadvantages of symmetric encryption are:\n",
    "* Hard to store and transfer keys, creating security risks\n",
    "* Keys are single-use, so it's not scalable\n",
    "* No identity-verification: key gives equal access\n",
    "* No integrity check: eavesdropper can change the message"
   ]
  },
  {
   "cell_type": "markdown",
   "metadata": {},
   "source": [
    "# BB84\n",
    "\n",
    "C. H. Bennett ve G. Brassard tarafından 1984 yılında getirilen bu protokol,\n",
    "kuantum süperpozisyonların ancak gözlem anında bir duruma çökmesi prensibine dayanır.\n",
    "\n",
    "Rastgele bir durumda gönderilen tekil kubitler, karşıdaki kullanıcı (Bora)\n",
    "tarafından ölçülür, ardından ölçüm yolları kıyaslanır.\n",
    "\n",
    "Ölçüm yollarının uyuştuğu durumda, ölçümler de uyuşacaktır. Bu, iki tarafın da elinde\n",
    "eşit, rastgele bir bit dizisi olması anlamına gelir.\n",
    "\n",
    "## Security\n",
    "\n",
    "Kuantum iletişim kanalında istenmeyen bir dinleyici olması durumunda,\n",
    "\"dinle ve tekrar gönder\" saldırısı da olasılıksal bir doğa edinir:\n",
    "Dinleyici ve asıl alıcının uyuşması, yani dinleyici varlığının gizli kalması,\n",
    "kubit başına 1/4 ihtimallidir. Kubit sayısı arttıkça dinleyicinin kusursuz\n",
    "gizliliği ihtimali 0'a yaklaşır."
   ]
  },
  {
   "cell_type": "code",
   "execution_count": null,
   "metadata": {},
   "outputs": [],
   "source": [
    "# For visualization purposes, TARGET bit size is recommended to be kept 32.\n",
    "# If desired, presentation speed can be modified via 'speed' parameter (eg. 'speed=5').\n",
    "TARGET = 32\n",
    "\n",
    "BB84_DEMO(TARGET, lang='EN')"
   ]
  }
 ],
 "metadata": {
  "kernelspec": {
   "display_name": "Python 3",
   "language": "python",
   "name": "python3"
  },
  "language_info": {
   "codemirror_mode": {
    "name": "ipython",
    "version": 3
   },
   "file_extension": ".py",
   "mimetype": "text/x-python",
   "name": "python",
   "nbconvert_exporter": "python",
   "pygments_lexer": "ipython3",
   "version": "3.7.1"
  }
 },
 "nbformat": 4,
 "nbformat_minor": 4
}
