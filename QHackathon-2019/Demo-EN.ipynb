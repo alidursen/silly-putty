{
 "cells": [
  {
   "cell_type": "code",
   "execution_count": null,
   "metadata": {},
   "outputs": [],
   "source": [
    "%run DemoBasis.ipynb"
   ]
  },
  {
   "cell_type": "markdown",
   "metadata": {},
   "source": [
    "# Encryption\n",
    "\n",
    "Encryption, traditionally, comes in two varieties: symmetric and asymmetric.\n",
    "Symmetric is the older version, where same key is used to both encrypt and\n",
    "decrypt the message. One-time use keypads provide perfect security against\n",
    "arbitrary attacks by 3rd parties.\n",
    "\n",
    "## Symmetric (Hidden Key) Encryption\n",
    "\n",
    "In hidden key encryption, there exists a single key which is used\n",
    "to both encrypt and decrypt the message. Main consideration here is\n",
    "key's security. If said key is obtained by others, encrypted messages\n",
    "can be easily accessed.\n",
    "\n",
    "Advantages of symmetric encryption are:\n",
    "* It's quite simplistic and fast\n",
    "* Can be used with hardware\n",
    "* Keys are quite short\n",
    "* Can be used in creation of stronger keys\n",
    "* Usage is understandable and easy\n",
    "\n",
    "Disadvantages of symmetric encryption are:\n",
    "* Hard to store and transfer keys, creating security risks\n",
    "* Keys are single-use, so it's not scalable\n",
    "* No identity-verification: key gives equal access\n",
    "* No integrity check: eavesdropper can change the message"
   ]
  },
  {
   "cell_type": "markdown",
   "metadata": {},
   "source": [
    "# BB84\n",
    "\n",
    "This protocol, developed by C. H. Bennett and G. Brassard in 1984,\n",
    "relies on quantum superpositions collapsing to a single state when observed.\n",
    "\n",
    "Single qubits sent in a random position are measured by accompanying user (Bob)\n",
    "in a random way, then measurement ways are compared.\n",
    "\n",
    "When ways of measurements match, measurements will also match.\n",
    "This means that both parties possess the same random bit string.\n",
    "\n",
    "## Security\n",
    "\n",
    "In the event of an eavesdropper in quantum communication channel,\n",
    "\"intercept and resend\" attack becomes probabilistic in nature:\n",
    "Probability of avesdropper and intended receiver matching,\n",
    "ie. eavesdropper remaining unnoticed, is 1/4 per qubit.\n",
    "As number of qubits increase, probability of perfect eavesdropping\n",
    "approaches 0."
   ]
  },
  {
   "cell_type": "code",
   "execution_count": null,
   "metadata": {},
   "outputs": [],
   "source": [
    "# For visualization purposes, TARGET bit size is recommended to be kept 32.\n",
    "# If desired, presentation speed can be modified via 'speed' parameter (eg. 'speed=5').\n",
    "TARGET = 32\n",
    "\n",
    "BB84_DEMO(TARGET, lang='EN')"
   ]
  }
 ],
 "metadata": {
  "kernelspec": {
   "display_name": "Python 3",
   "language": "python",
   "name": "python3"
  },
  "language_info": {
   "codemirror_mode": {
    "name": "ipython",
    "version": 3
   },
   "file_extension": ".py",
   "mimetype": "text/x-python",
   "name": "python",
   "nbconvert_exporter": "python",
   "pygments_lexer": "ipython3",
   "version": "3.7.1"
  }
 },
 "nbformat": 4,
 "nbformat_minor": 4
}
